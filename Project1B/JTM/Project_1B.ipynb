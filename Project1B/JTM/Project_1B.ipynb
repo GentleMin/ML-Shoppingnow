{
 "cells": [
  {
   "cell_type": "markdown",
   "id": "1a5bce21-c2a1-49e3-9b63-ad8cff271d8c",
   "metadata": {},
   "source": [
    "# Project 1B"
   ]
  },
  {
   "cell_type": "code",
   "execution_count": 3,
   "id": "8ff28802-a99c-4dea-a4e5-e0be8dd46ddf",
   "metadata": {},
   "outputs": [],
   "source": [
    "import numpy as np\n",
    "import pandas as pd\n",
    "from sklearn.linear_model import RidgeCV, LassoCV, LinearRegression, HuberRegressor"
   ]
  },
  {
   "cell_type": "markdown",
   "id": "d4fe5a84-f299-499c-b725-6c04dae8337a",
   "metadata": {},
   "source": [
    "## 1. Load Data"
   ]
  },
  {
   "cell_type": "code",
   "execution_count": 2,
   "id": "41877632-92f4-4497-ab0e-fc70e2b7ba6d",
   "metadata": {},
   "outputs": [
    {
     "data": {
      "text/html": [
       "<div>\n",
       "<style scoped>\n",
       "    .dataframe tbody tr th:only-of-type {\n",
       "        vertical-align: middle;\n",
       "    }\n",
       "\n",
       "    .dataframe tbody tr th {\n",
       "        vertical-align: top;\n",
       "    }\n",
       "\n",
       "    .dataframe thead th {\n",
       "        text-align: right;\n",
       "    }\n",
       "</style>\n",
       "<table border=\"1\" class=\"dataframe\">\n",
       "  <thead>\n",
       "    <tr style=\"text-align: right;\">\n",
       "      <th></th>\n",
       "      <th>Id</th>\n",
       "      <th>y</th>\n",
       "      <th>x1</th>\n",
       "      <th>x2</th>\n",
       "      <th>x3</th>\n",
       "      <th>x4</th>\n",
       "      <th>x5</th>\n",
       "    </tr>\n",
       "  </thead>\n",
       "  <tbody>\n",
       "    <tr>\n",
       "      <th>0</th>\n",
       "      <td>0</td>\n",
       "      <td>-6.822679</td>\n",
       "      <td>0.02</td>\n",
       "      <td>0.05</td>\n",
       "      <td>-0.09</td>\n",
       "      <td>-0.43</td>\n",
       "      <td>-0.08</td>\n",
       "    </tr>\n",
       "    <tr>\n",
       "      <th>1</th>\n",
       "      <td>1</td>\n",
       "      <td>-6.326290</td>\n",
       "      <td>-0.13</td>\n",
       "      <td>0.11</td>\n",
       "      <td>-0.08</td>\n",
       "      <td>-0.29</td>\n",
       "      <td>-0.03</td>\n",
       "    </tr>\n",
       "    <tr>\n",
       "      <th>2</th>\n",
       "      <td>2</td>\n",
       "      <td>-9.302728</td>\n",
       "      <td>0.08</td>\n",
       "      <td>0.06</td>\n",
       "      <td>-0.07</td>\n",
       "      <td>-0.41</td>\n",
       "      <td>-0.03</td>\n",
       "    </tr>\n",
       "    <tr>\n",
       "      <th>3</th>\n",
       "      <td>3</td>\n",
       "      <td>-7.371893</td>\n",
       "      <td>0.02</td>\n",
       "      <td>-0.12</td>\n",
       "      <td>0.01</td>\n",
       "      <td>-0.43</td>\n",
       "      <td>-0.02</td>\n",
       "    </tr>\n",
       "    <tr>\n",
       "      <th>4</th>\n",
       "      <td>4</td>\n",
       "      <td>-6.027647</td>\n",
       "      <td>-0.14</td>\n",
       "      <td>-0.12</td>\n",
       "      <td>-0.08</td>\n",
       "      <td>-0.02</td>\n",
       "      <td>-0.08</td>\n",
       "    </tr>\n",
       "    <tr>\n",
       "      <th>...</th>\n",
       "      <td>...</td>\n",
       "      <td>...</td>\n",
       "      <td>...</td>\n",
       "      <td>...</td>\n",
       "      <td>...</td>\n",
       "      <td>...</td>\n",
       "      <td>...</td>\n",
       "    </tr>\n",
       "    <tr>\n",
       "      <th>695</th>\n",
       "      <td>695</td>\n",
       "      <td>-6.147394</td>\n",
       "      <td>0.31</td>\n",
       "      <td>-0.09</td>\n",
       "      <td>0.04</td>\n",
       "      <td>-0.09</td>\n",
       "      <td>0.03</td>\n",
       "    </tr>\n",
       "    <tr>\n",
       "      <th>696</th>\n",
       "      <td>696</td>\n",
       "      <td>-6.214899</td>\n",
       "      <td>-0.26</td>\n",
       "      <td>-0.01</td>\n",
       "      <td>0.02</td>\n",
       "      <td>-0.40</td>\n",
       "      <td>0.05</td>\n",
       "    </tr>\n",
       "    <tr>\n",
       "      <th>697</th>\n",
       "      <td>697</td>\n",
       "      <td>-6.841341</td>\n",
       "      <td>-0.27</td>\n",
       "      <td>-0.22</td>\n",
       "      <td>-0.01</td>\n",
       "      <td>-0.32</td>\n",
       "      <td>-0.05</td>\n",
       "    </tr>\n",
       "    <tr>\n",
       "      <th>698</th>\n",
       "      <td>698</td>\n",
       "      <td>-6.523371</td>\n",
       "      <td>0.19</td>\n",
       "      <td>0.11</td>\n",
       "      <td>-0.05</td>\n",
       "      <td>-0.27</td>\n",
       "      <td>-0.04</td>\n",
       "    </tr>\n",
       "    <tr>\n",
       "      <th>699</th>\n",
       "      <td>699</td>\n",
       "      <td>-5.676683</td>\n",
       "      <td>-0.09</td>\n",
       "      <td>-0.09</td>\n",
       "      <td>-0.06</td>\n",
       "      <td>-0.41</td>\n",
       "      <td>-0.06</td>\n",
       "    </tr>\n",
       "  </tbody>\n",
       "</table>\n",
       "<p>700 rows × 7 columns</p>\n",
       "</div>"
      ],
      "text/plain": [
       "      Id         y    x1    x2    x3    x4    x5\n",
       "0      0 -6.822679  0.02  0.05 -0.09 -0.43 -0.08\n",
       "1      1 -6.326290 -0.13  0.11 -0.08 -0.29 -0.03\n",
       "2      2 -9.302728  0.08  0.06 -0.07 -0.41 -0.03\n",
       "3      3 -7.371893  0.02 -0.12  0.01 -0.43 -0.02\n",
       "4      4 -6.027647 -0.14 -0.12 -0.08 -0.02 -0.08\n",
       "..   ...       ...   ...   ...   ...   ...   ...\n",
       "695  695 -6.147394  0.31 -0.09  0.04 -0.09  0.03\n",
       "696  696 -6.214899 -0.26 -0.01  0.02 -0.40  0.05\n",
       "697  697 -6.841341 -0.27 -0.22 -0.01 -0.32 -0.05\n",
       "698  698 -6.523371  0.19  0.11 -0.05 -0.27 -0.04\n",
       "699  699 -5.676683 -0.09 -0.09 -0.06 -0.41 -0.06\n",
       "\n",
       "[700 rows x 7 columns]"
      ]
     },
     "execution_count": 2,
     "metadata": {},
     "output_type": "execute_result"
    }
   ],
   "source": [
    "df_train = pd.read_csv(\"train.csv\")\n",
    "df_train"
   ]
  },
  {
   "cell_type": "markdown",
   "id": "a970a081-ed1f-4cdf-88a6-09b9f9eac19b",
   "metadata": {},
   "source": [
    "## 2. Create feature map"
   ]
  },
  {
   "cell_type": "code",
   "execution_count": 36,
   "id": "33bb011c-fd36-4609-86e3-6910c983d56b",
   "metadata": {},
   "outputs": [],
   "source": [
    "def map_to_feature(X, feature_map, max_n):\n",
    "    Phi = np.stack([feature_map(X, n) for n in range(max_n)], axis=1)\n",
    "    return Phi"
   ]
  },
  {
   "cell_type": "code",
   "execution_count": 37,
   "id": "20ae633f-6388-4bf6-a176-a05ef011bb99",
   "metadata": {},
   "outputs": [],
   "source": [
    "feature_map_list = [\n",
    "    lambda X, n: X.iloc[:,n],\n",
    "    lambda X, n: X.iloc[:,n]**2,\n",
    "    lambda X, n: np.exp(X.iloc[:,n]),\n",
    "    lambda X, n: np.cos(X.iloc[:,n]),\n",
    "    lambda X, n: np.ones(X.iloc[:,n].shape)\n",
    "]\n",
    "feature_len_list = [5, 5, 5, 5, 1]"
   ]
  },
  {
   "cell_type": "code",
   "execution_count": 38,
   "id": "ef32b7fd-917b-49e1-bab4-229f49b1d7f5",
   "metadata": {},
   "outputs": [],
   "source": [
    "wt_list = list()\n",
    "X = df_train.iloc[:,2:]\n",
    "y = df_train.iloc[:,1]\n",
    "Phi = np.concatenate([map_to_feature(X, feature_map_list[i], feature_len_list[i]) for i in range(len(feature_len_list))], axis=1)"
   ]
  },
  {
   "cell_type": "markdown",
   "id": "312ed0fb-29ff-440e-a3ad-9817b7212147",
   "metadata": {},
   "source": [
    "## 3. Checking conditioning\n",
    "\n",
    "It turns out the problem is very ill-conditioned and close to being singular. Therefore, regularization is desired."
   ]
  },
  {
   "cell_type": "code",
   "execution_count": 41,
   "id": "3313788f-4654-4ffc-a361-e8c13cf4b662",
   "metadata": {},
   "outputs": [
    {
     "data": {
      "text/plain": [
       "407714829257.6802"
      ]
     },
     "execution_count": 41,
     "metadata": {},
     "output_type": "execute_result"
    }
   ],
   "source": [
    "np.linalg.cond(Phi.T @ Phi)"
   ]
  },
  {
   "cell_type": "markdown",
   "id": "a14929ac-cfdb-4f1c-aac0-b164122524cd",
   "metadata": {},
   "source": [
    "## 4. Regularized regression"
   ]
  },
  {
   "cell_type": "code",
   "execution_count": 91,
   "id": "f23ac66a-22e0-4738-b425-0757a56d7ee8",
   "metadata": {},
   "outputs": [
    {
     "name": "stdout",
     "output_type": "stream",
     "text": [
      "RMS-error:  1.9540678401397567\n",
      "condition:  710267.0714755888\n",
      "Reg choice: 39.810717055349734\n",
      "[ 0.06463819 -0.09935624 -0.14821316  0.1966039   0.05577883 -0.05257226\n",
      "  0.01796294  0.02632358 -0.08163859  0.00347901 -0.55857682 -0.68766191\n",
      " -0.73288575 -0.43722741 -0.53983591 -0.57036329 -0.60540971 -0.60956463\n",
      " -0.55629686 -0.598057   -0.59648899]\n"
     ]
    }
   ],
   "source": [
    "alphas = np.logspace(-1, 2, num=31)\n",
    "\n",
    "predictor = RidgeCV(alphas=alphas, cv=10, fit_intercept=False).fit(Phi, y)\n",
    "\n",
    "rms_err = np.sqrt(np.mean((y - predictor.predict(Phi))**2))\n",
    "\n",
    "print(\"RMS-error:  {}\".format(rms_err))\n",
    "print(\"condition:  {}\".format(np.linalg.cond(Phi.T @ Phi + alpha * np.identity(Phi.shape[1]))))\n",
    "print(\"Reg choice: {}\".format(predictor.alpha_))\n",
    "print(predictor.coef_)"
   ]
  },
  {
   "cell_type": "code",
   "execution_count": 92,
   "id": "be484b36-a93c-424c-a2b9-56e0dc00ef33",
   "metadata": {},
   "outputs": [
    {
     "name": "stdout",
     "output_type": "stream",
     "text": [
      "RMS-error:  1.955551724189846\n",
      "[ 0.0339104  -0.04434283 -0.06600325  0.16371645  0.03069424 -0.02677527\n",
      "  0.00621715  0.00946419 -0.07182036  0.00144496 -0.58156505 -0.64333881\n",
      " -0.66356972 -0.47072449 -0.57077245 -0.58838735 -0.60477479 -0.60640232\n",
      " -0.56630247 -0.60232667 -0.60170384]\n"
     ]
    }
   ],
   "source": [
    "predictor = HuberRegressor(alpha=predictor.alpha_, max_iter=100, fit_intercept=False).fit(Phi, y)\n",
    "rms_err = np.sqrt(np.mean((y - predictor.predict(Phi))**2))\n",
    "\n",
    "print(\"RMS-error:  {}\".format(rms_err))\n",
    "print(predictor.coef_)"
   ]
  },
  {
   "cell_type": "code",
   "execution_count": 93,
   "id": "8eeb965e-0068-4c83-aa29-5f3f38868136",
   "metadata": {},
   "outputs": [],
   "source": [
    "with open(\"./results_Ridge-CV10-Huber.csv\", 'w') as fwrite:\n",
    "    for ci in predictor.coef_:\n",
    "        print(ci, file=fwrite)"
   ]
  },
  {
   "cell_type": "code",
   "execution_count": 82,
   "id": "66489acc-1254-43ca-b1b1-622b9eb5988f",
   "metadata": {},
   "outputs": [
    {
     "data": {
      "text/plain": [
       "7.68589524559616"
      ]
     },
     "execution_count": 82,
     "metadata": {},
     "output_type": "execute_result"
    }
   ],
   "source": [
    "np.max(np.abs(y - predictor.predict(Phi)))"
   ]
  },
  {
   "cell_type": "code",
   "execution_count": 84,
   "id": "9a98c698-9988-42ad-a4df-6b49fdf521da",
   "metadata": {},
   "outputs": [
    {
     "data": {
      "text/plain": [
       "<AxesSubplot:xlabel='y', ylabel='Count'>"
      ]
     },
     "execution_count": 84,
     "metadata": {},
     "output_type": "execute_result"
    },
    {
     "data": {
      "image/png": "[encoded data removed]",
      "text/plain": [
       "<Figure size 432x288 with 1 Axes>"
      ]
     },
     "metadata": {
      "needs_background": "light"
     },
     "output_type": "display_data"
    }
   ],
   "source": [
    "sns.histplot(y - predictor.predict(Phi))"
   ]
  },
  {
   "cell_type": "code",
   "execution_count": null,
   "id": "a742be91-e077-4fa3-8e93-e8234ee11892",
   "metadata": {},
   "outputs": [],
   "source": []
  }
 ],
 "metadata": {
  "kernelspec": {
   "display_name": "Python 3 (ipykernel)",
   "language": "python",
   "name": "python3"
  },
  "language_info": {
   "codemirror_mode": {
    "name": "ipython",
    "version": 3
   },
   "file_extension": ".py",
   "mimetype": "text/x-python",
   "name": "python",
   "nbconvert_exporter": "python",
   "pygments_lexer": "ipython3",
   "version": "3.7.12"
  }
 },
 "nbformat": 4,
 "nbformat_minor": 5
}
