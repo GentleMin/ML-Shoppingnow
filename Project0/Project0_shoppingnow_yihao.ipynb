{
 "cells": [
  {
   "cell_type": "code",
   "execution_count": 3,
   "id": "e51e2f43",
   "metadata": {},
   "outputs": [],
   "source": [
    "import numpy as np\n",
    "import pandas as pd\n",
    "from sklearn import linear_model\n",
    "from sklearn.metrics import mean_squared_error\n",
    "import csv"
   ]
  },
  {
   "cell_type": "code",
   "execution_count": 4,
   "id": "700c6106",
   "metadata": {},
   "outputs": [],
   "source": [
    "data_train = pd.read_csv('train.csv')"
   ]
  },
  {
   "cell_type": "code",
   "execution_count": 5,
   "id": "69060392",
   "metadata": {},
   "outputs": [],
   "source": [
    "y_train = data_train.y"
   ]
  },
  {
   "cell_type": "code",
   "execution_count": 6,
   "id": "253231b7",
   "metadata": {},
   "outputs": [],
   "source": [
    "x_train = data_train.iloc[:,2:]"
   ]
  },
  {
   "cell_type": "code",
   "execution_count": 7,
   "id": "054d913e",
   "metadata": {},
   "outputs": [],
   "source": [
    "regr = linear_model.LinearRegression()"
   ]
  },
  {
   "cell_type": "code",
   "execution_count": 8,
   "id": "3150596f",
   "metadata": {},
   "outputs": [
    {
     "data": {
      "text/plain": [
       "LinearRegression()"
      ]
     },
     "execution_count": 8,
     "metadata": {},
     "output_type": "execute_result"
    }
   ],
   "source": [
    "regr.fit(x_train, y_train)"
   ]
  },
  {
   "cell_type": "code",
   "execution_count": 9,
   "id": "6346295d",
   "metadata": {},
   "outputs": [],
   "source": [
    "data_test = pd.read_csv('test.csv')"
   ]
  },
  {
   "cell_type": "code",
   "execution_count": 10,
   "id": "e040c7de",
   "metadata": {},
   "outputs": [],
   "source": [
    "y_pred = regr.predict(data_test.iloc[:,1:])"
   ]
  },
  {
   "cell_type": "code",
   "execution_count": 11,
   "id": "d69d941e",
   "metadata": {},
   "outputs": [
    {
     "name": "stdout",
     "output_type": "stream",
     "text": [
      "Coefficients: \n",
      " [0.1 0.1 0.1 0.1 0.1 0.1 0.1 0.1 0.1 0.1]\n"
     ]
    }
   ],
   "source": [
    "print(\"Coefficients: \\n\", regr.coef_)"
   ]
  },
  {
   "cell_type": "code",
   "execution_count": 19,
   "id": "043850a9",
   "metadata": {},
   "outputs": [],
   "source": [
    "results = np.vstack([data_test.iloc[:,0],y_pred]).T"
   ]
  },
  {
   "cell_type": "code",
   "execution_count": 18,
   "id": "26b3a0cc",
   "metadata": {},
   "outputs": [
    {
     "data": {
      "text/plain": [
       "array([10000., 10001., 10002., ..., 11997., 11998., 11999.])"
      ]
     },
     "execution_count": 18,
     "metadata": {},
     "output_type": "execute_result"
    }
   ],
   "source": [
    "# results = np.stack([data_test.iloc[:,0],y_pred],axis=1) "
   ]
  },
  {
   "cell_type": "code",
   "execution_count": 11,
   "id": "a3804f26",
   "metadata": {},
   "outputs": [],
   "source": [
    "header = ['Id', 'y']\n",
    "\n",
    "with open('test_results_shoppingnow.csv', 'w', encoding='UTF8') as f:\n",
    "    writer = csv.writer(f)\n",
    "\n",
    "    # write the header\n",
    "    writer.writerow(header)\n",
    "\n",
    "    # write the data\n",
    "    for row in results:\n",
    "        writer.writerow(row)"
   ]
  }
 ],
 "metadata": {
  "kernelspec": {
   "display_name": "Python 3",
   "language": "python",
   "name": "python3"
  },
  "language_info": {
   "codemirror_mode": {
    "name": "ipython",
    "version": 3
   },
   "file_extension": ".py",
   "mimetype": "text/x-python",
   "name": "python",
   "nbconvert_exporter": "python",
   "pygments_lexer": "ipython3",
   "version": "3.8.8"
  }
 },
 "nbformat": 4,
 "nbformat_minor": 5
}
